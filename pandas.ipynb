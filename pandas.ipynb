{
 "cells": [
  {
   "cell_type": "code",
   "execution_count": 1,
   "id": "e7b1ac86",
   "metadata": {},
   "outputs": [
    {
     "name": "stdout",
     "output_type": "stream",
     "text": [
      "This is the tutorial of pandas\n"
     ]
    }
   ],
   "source": [
    "print(\"This is the tutorial of pandas\")"
   ]
  },
  {
   "cell_type": "code",
   "execution_count": null,
   "id": "9c045e76",
   "metadata": {},
   "outputs": [
    {
     "name": "stdout",
     "output_type": "stream",
     "text": [
      "2.3.0\n"
     ]
    }
   ],
   "source": [
    "import pandas as pd\n",
    "\n",
    "print(pd.__version__)"
   ]
  },
  {
   "cell_type": "code",
   "execution_count": 7,
   "id": "1d7b3979",
   "metadata": {},
   "outputs": [
    {
     "name": "stdout",
     "output_type": "stream",
     "text": [
      "Series \n",
      " 0    1\n",
      "1    2\n",
      "2    3\n",
      "3    4\n",
      "4    5\n",
      "dtype: int64\n",
      "<class 'pandas.core.series.Series'>\n"
     ]
    }
   ],
   "source": [
    " #Series\n",
    "# A Pandas Series is a 1D array-like object that can hold any data type.\n",
    "# It is similar to column in a table\n",
    "\n",
    "data = [1,2,3,4,5]\n",
    "series = pd.Series(data)\n",
    "\n",
    "print(\"Series \\n\",series)\n",
    "print(type(series))\n"
   ]
  },
  {
   "cell_type": "code",
   "execution_count": null,
   "id": "61f1a841",
   "metadata": {},
   "outputs": [
    {
     "name": "stdout",
     "output_type": "stream",
     "text": [
      "a    1\n",
      "b    2\n",
      "c    3\n",
      "dtype: int64\n"
     ]
    }
   ],
   "source": [
    "# Create a series from dictionary\n",
    "\n",
    "data = {'a':1,'b':2,'c':3}\n",
    "series_dict = pd.Series(data)\n",
    "\n",
    "print(series_dict)\n",
    "\n",
    "# Now here 'a','b','c','d' becomes the index\n",
    "# So whatever the keys will be as a index and values as a Series Values"
   ]
  },
  {
   "cell_type": "code",
   "execution_count": 10,
   "id": "686c5748",
   "metadata": {},
   "outputs": [
    {
     "data": {
      "text/plain": [
       "a    10\n",
       "b    20\n",
       "c    30\n",
       "dtype: int64"
      ]
     },
     "execution_count": 10,
     "metadata": {},
     "output_type": "execute_result"
    }
   ],
   "source": [
    "data = [10,20,30]\n",
    "index = ['a','b','c']\n",
    "\n",
    "pd.Series(data,index=index)"
   ]
  },
  {
   "cell_type": "code",
   "execution_count": 24,
   "id": "4241e362",
   "metadata": {},
   "outputs": [
    {
     "name": "stdout",
     "output_type": "stream",
     "text": [
      "      Name  Age    City\n",
      "0  Prajwal   25    Pune\n",
      "1  Sarthak   30      Ny\n",
      "2     Anil   45  Nashik\n",
      "<class 'pandas.core.frame.DataFrame'>\n"
     ]
    }
   ],
   "source": [
    "# Dataframes\n",
    "\n",
    "# Create a dataframe from a dictionary of list\n",
    "data={\n",
    "  'Name':['Prajwal','Sarthak','Anil'],\n",
    "  'Age':[25,30,45],\n",
    "  'City':['Pune','Ny','Nashik'],\n",
    "}\n",
    "\n",
    "df=pd.DataFrame(data)\n",
    "print(df)\n",
    "\n",
    "print(type(df))"
   ]
  },
  {
   "cell_type": "code",
   "execution_count": 15,
   "id": "f9f18cfd",
   "metadata": {},
   "outputs": [
    {
     "data": {
      "text/plain": [
       "array([['Prajwal', 25, 'Pune'],\n",
       "       ['Sarthak', 30, 'Ny'],\n",
       "       ['Anil', 45, 'Nashik']], dtype=object)"
      ]
     },
     "execution_count": 15,
     "metadata": {},
     "output_type": "execute_result"
    }
   ],
   "source": [
    "import numpy as np\n",
    "np.array(df)"
   ]
  },
  {
   "cell_type": "code",
   "execution_count": 18,
   "id": "d30b98cc",
   "metadata": {},
   "outputs": [
    {
     "name": "stdout",
     "output_type": "stream",
     "text": [
      "      Name  Age    City\n",
      "0  Prajwal   22  Nashik\n",
      "1  Sarthak   14  Nashik\n",
      "<class 'pandas.core.frame.DataFrame'>\n"
     ]
    }
   ],
   "source": [
    "# Create a dataframe from a list of dictionaries\n",
    "\n",
    "data=[\n",
    "  {'Name':'Prajwal','Age':22,'City':'Nashik'},\n",
    "  {'Name':'Sarthak','Age':14,'City':'Nashik'},\n",
    "]\n",
    "\n",
    "df = pd.DataFrame(data)\n",
    "print(df)\n",
    "print(type(df))"
   ]
  },
  {
   "cell_type": "code",
   "execution_count": 72,
   "id": "00ccd85c",
   "metadata": {},
   "outputs": [
    {
     "name": "stdout",
     "output_type": "stream",
     "text": [
      "   Index          User Id First Name Last Name     Sex  \\\n",
      "0      1  88F7B33d2bcf9f5     Shelby   Terrell    Male   \n",
      "1      2  f90cD3E76f1A9b9    Phillip   Summers  Female   \n",
      "2      3  DbeAb8CcdfeFC2c   Kristine    Travis    Male   \n",
      "3      4  A31Bee3c201ef58    Yesenia  Martinez    Male   \n",
      "4      5  1bA7A3dc874da3c       Lori      Todd    Male   \n",
      "\n",
      "                        Email                   Phone Date of birth  \\\n",
      "0        elijah57@example.net  001-084-906-7849x73518    1945-10-26   \n",
      "1       bethany14@example.com       214.112.6044x4913    1910-03-24   \n",
      "2       bthompson@example.com            277.609.7938    1992-07-02   \n",
      "3   kaitlinkaiser@example.com            584.094.6111    2017-08-03   \n",
      "4  buchananmanuel@example.net       689-207-3558x7233    1938-12-01   \n",
      "\n",
      "            Job Title  \n",
      "0     Games developer  \n",
      "1      Phytotherapist  \n",
      "2           Homeopath  \n",
      "3   Market researcher  \n",
      "4  Veterinary surgeon  \n"
     ]
    }
   ],
   "source": [
    "df = pd.read_csv('people-100.csv')\n",
    "\n",
    "\n",
    "print(df.head(5))  #top 5 elements of a csv file\n"
   ]
  },
  {
   "cell_type": "code",
   "execution_count": 25,
   "id": "9e676962",
   "metadata": {},
   "outputs": [
    {
     "data": {
      "text/plain": [
       "{'Name': ['Prajwal', 'Sarthak', 'Anil'],\n",
       " 'Age': [25, 30, 45],\n",
       " 'City': ['Pune', 'Ny', 'Nashik']}"
      ]
     },
     "execution_count": 25,
     "metadata": {},
     "output_type": "execute_result"
    }
   ],
   "source": [
    "# Accessing data from the dataframe\n",
    "data"
   ]
  },
  {
   "cell_type": "code",
   "execution_count": 26,
   "id": "0f5021e2",
   "metadata": {},
   "outputs": [
    {
     "data": {
      "text/html": [
       "<div>\n",
       "<style scoped>\n",
       "    .dataframe tbody tr th:only-of-type {\n",
       "        vertical-align: middle;\n",
       "    }\n",
       "\n",
       "    .dataframe tbody tr th {\n",
       "        vertical-align: top;\n",
       "    }\n",
       "\n",
       "    .dataframe thead th {\n",
       "        text-align: right;\n",
       "    }\n",
       "</style>\n",
       "<table border=\"1\" class=\"dataframe\">\n",
       "  <thead>\n",
       "    <tr style=\"text-align: right;\">\n",
       "      <th></th>\n",
       "      <th>Name</th>\n",
       "      <th>Age</th>\n",
       "      <th>City</th>\n",
       "    </tr>\n",
       "  </thead>\n",
       "  <tbody>\n",
       "    <tr>\n",
       "      <th>0</th>\n",
       "      <td>Prajwal</td>\n",
       "      <td>25</td>\n",
       "      <td>Pune</td>\n",
       "    </tr>\n",
       "    <tr>\n",
       "      <th>1</th>\n",
       "      <td>Sarthak</td>\n",
       "      <td>30</td>\n",
       "      <td>Ny</td>\n",
       "    </tr>\n",
       "    <tr>\n",
       "      <th>2</th>\n",
       "      <td>Anil</td>\n",
       "      <td>45</td>\n",
       "      <td>Nashik</td>\n",
       "    </tr>\n",
       "  </tbody>\n",
       "</table>\n",
       "</div>"
      ],
      "text/plain": [
       "      Name  Age    City\n",
       "0  Prajwal   25    Pune\n",
       "1  Sarthak   30      Ny\n",
       "2     Anil   45  Nashik"
      ]
     },
     "execution_count": 26,
     "metadata": {},
     "output_type": "execute_result"
    }
   ],
   "source": [
    "df"
   ]
  },
  {
   "cell_type": "code",
   "execution_count": 30,
   "id": "c03211b6",
   "metadata": {},
   "outputs": [
    {
     "name": "stdout",
     "output_type": "stream",
     "text": [
      "0    Prajwal\n",
      "1    Sarthak\n",
      "2       Anil\n",
      "Name: Name, dtype: object\n",
      "<class 'pandas.core.series.Series'>\n"
     ]
    }
   ],
   "source": [
    "# Accessing jus the names from the dataframe\n",
    "print(df['Name'])\n",
    "\n",
    "# As cols are getting displayed, so they are Series\n",
    "print(type(df['Name']))"
   ]
  },
  {
   "cell_type": "code",
   "execution_count": null,
   "id": "9c285686",
   "metadata": {},
   "outputs": [
    {
     "name": "stdout",
     "output_type": "stream",
     "text": [
      "name    Alice\n",
      "age        25\n",
      "Name: a, dtype: object\n",
      "\n",
      "\n",
      "      name  age\n",
      "a    Alice   25\n",
      "b      Bob   30\n",
      "c  Charlie   35\n",
      "\n",
      "\n",
      "Alice\n"
     ]
    }
   ],
   "source": [
    "# .loc[] -> Label-based indexing\n",
    "\n",
    "df = pd.DataFrame({\n",
    "    'name': ['Alice', 'Bob', 'Charlie'],\n",
    "    'age': [25, 30, 35]\n",
    "}, index=['a', 'b', 'c'])\n",
    "\n",
    "print(df.loc['a'])     # Access row with index label 'a'\n",
    "print(\"\\n\")  \n",
    "print(df.loc['a':'c'])  # Includes 'a' 'b' 'c'\n",
    "print(\"\\n\")  \n",
    "print(df.loc['a', 'name'])  # 'Alice'\n"
   ]
  },
  {
   "cell_type": "code",
   "execution_count": null,
   "id": "6f85e23a",
   "metadata": {},
   "outputs": [
    {
     "name": "stdout",
     "output_type": "stream",
     "text": [
      "name    Alice\n",
      "age        25\n",
      "Name: a, dtype: object\n",
      "\n",
      "\n",
      "    name  age\n",
      "a  Alice   25\n",
      "b    Bob   30\n",
      "\n",
      "\n",
      "Alice\n"
     ]
    }
   ],
   "source": [
    "# .iloc[] -> Integer position-based indexing\n",
    "\n",
    "print(df.iloc[0])\n",
    "print(\"\\n\")      # Access first row\n",
    "print(df.iloc[0:2])    # Returns rows at index 0 and 1 (excludes 2)\n",
    "print(\"\\n\")  \n",
    "print(df.iloc[0, 0])   # 'Alice' — 0th row, 0th column\n"
   ]
  },
  {
   "cell_type": "code",
   "execution_count": 50,
   "id": "75596d31",
   "metadata": {},
   "outputs": [
    {
     "name": "stdout",
     "output_type": "stream",
     "text": [
      "      name  age\n",
      "a    Alice   25\n",
      "b      Bob   30\n",
      "c  Charlie   35\n",
      "\n",
      "\n",
      "25\n",
      "30\n"
     ]
    }
   ],
   "source": [
    "# Accessing a specific element \n",
    "print(df)\n",
    "\n",
    "print(\"\\n\")\n",
    "print(df.at['a','age'])\n",
    "print(df.iat[1,1])"
   ]
  },
  {
   "cell_type": "code",
   "execution_count": 53,
   "id": "330285d4",
   "metadata": {},
   "outputs": [
    {
     "name": "stdout",
     "output_type": "stream",
     "text": [
      "      name  age\n",
      "a    Alice   25\n",
      "b      Bob   30\n",
      "c  Charlie   35\n",
      "\n",
      "\n",
      "\n",
      "\n",
      "New dataframe with salary\n",
      "       name  age  Salary\n",
      "a    Alice   25   50000\n",
      "b      Bob   30   60000\n",
      "c  Charlie   35   70000\n"
     ]
    }
   ],
   "source": [
    "# Data Manipulation with dataframes\n",
    "print(df)\n",
    "\n",
    "print(\"\\n\")\n",
    "\n",
    "# Add a new salary col\n",
    "df['Salary'] = [50000,60000,70000]\n",
    "\n",
    "print(\"\\n\")\n",
    "\n",
    "print(\"New dataframe with salary\\n\",df)"
   ]
  },
  {
   "cell_type": "code",
   "execution_count": 55,
   "id": "28ba462e",
   "metadata": {},
   "outputs": [
    {
     "data": {
      "text/html": [
       "<div>\n",
       "<style scoped>\n",
       "    .dataframe tbody tr th:only-of-type {\n",
       "        vertical-align: middle;\n",
       "    }\n",
       "\n",
       "    .dataframe tbody tr th {\n",
       "        vertical-align: top;\n",
       "    }\n",
       "\n",
       "    .dataframe thead th {\n",
       "        text-align: right;\n",
       "    }\n",
       "</style>\n",
       "<table border=\"1\" class=\"dataframe\">\n",
       "  <thead>\n",
       "    <tr style=\"text-align: right;\">\n",
       "      <th></th>\n",
       "      <th>name</th>\n",
       "      <th>age</th>\n",
       "    </tr>\n",
       "  </thead>\n",
       "  <tbody>\n",
       "    <tr>\n",
       "      <th>a</th>\n",
       "      <td>Alice</td>\n",
       "      <td>25</td>\n",
       "    </tr>\n",
       "    <tr>\n",
       "      <th>b</th>\n",
       "      <td>Bob</td>\n",
       "      <td>30</td>\n",
       "    </tr>\n",
       "    <tr>\n",
       "      <th>c</th>\n",
       "      <td>Charlie</td>\n",
       "      <td>35</td>\n",
       "    </tr>\n",
       "  </tbody>\n",
       "</table>\n",
       "</div>"
      ],
      "text/plain": [
       "      name  age\n",
       "a    Alice   25\n",
       "b      Bob   30\n",
       "c  Charlie   35"
      ]
     },
     "execution_count": 55,
     "metadata": {},
     "output_type": "execute_result"
    }
   ],
   "source": [
    "# Remove a col\n",
    "\n",
    "df.drop('Salary',axis=1)"
   ]
  },
  {
   "cell_type": "code",
   "execution_count": null,
   "id": "8faecc62",
   "metadata": {},
   "outputs": [
    {
     "data": {
      "text/html": [
       "<div>\n",
       "<style scoped>\n",
       "    .dataframe tbody tr th:only-of-type {\n",
       "        vertical-align: middle;\n",
       "    }\n",
       "\n",
       "    .dataframe tbody tr th {\n",
       "        vertical-align: top;\n",
       "    }\n",
       "\n",
       "    .dataframe thead th {\n",
       "        text-align: right;\n",
       "    }\n",
       "</style>\n",
       "<table border=\"1\" class=\"dataframe\">\n",
       "  <thead>\n",
       "    <tr style=\"text-align: right;\">\n",
       "      <th></th>\n",
       "      <th>name</th>\n",
       "      <th>age</th>\n",
       "      <th>Salary</th>\n",
       "    </tr>\n",
       "  </thead>\n",
       "  <tbody>\n",
       "    <tr>\n",
       "      <th>a</th>\n",
       "      <td>Alice</td>\n",
       "      <td>25</td>\n",
       "      <td>50000</td>\n",
       "    </tr>\n",
       "    <tr>\n",
       "      <th>b</th>\n",
       "      <td>Bob</td>\n",
       "      <td>30</td>\n",
       "      <td>60000</td>\n",
       "    </tr>\n",
       "    <tr>\n",
       "      <th>c</th>\n",
       "      <td>Charlie</td>\n",
       "      <td>35</td>\n",
       "      <td>70000</td>\n",
       "    </tr>\n",
       "  </tbody>\n",
       "</table>\n",
       "</div>"
      ],
      "text/plain": [
       "      name  age  Salary\n",
       "a    Alice   25   50000\n",
       "b      Bob   30   60000\n",
       "c  Charlie   35   70000"
      ]
     },
     "execution_count": 58,
     "metadata": {},
     "output_type": "execute_result"
    }
   ],
   "source": [
    "df         # But here again Salary col appeared"
   ]
  },
  {
   "cell_type": "code",
   "execution_count": 64,
   "id": "ecb3e853",
   "metadata": {},
   "outputs": [],
   "source": [
    "# Now to permanently delete that col, use inplace\n",
    "#df.drop('Salary',axis=1,inplace=True)\n"
   ]
  },
  {
   "cell_type": "code",
   "execution_count": 65,
   "id": "68d07815",
   "metadata": {},
   "outputs": [
    {
     "data": {
      "text/html": [
       "<div>\n",
       "<style scoped>\n",
       "    .dataframe tbody tr th:only-of-type {\n",
       "        vertical-align: middle;\n",
       "    }\n",
       "\n",
       "    .dataframe tbody tr th {\n",
       "        vertical-align: top;\n",
       "    }\n",
       "\n",
       "    .dataframe thead th {\n",
       "        text-align: right;\n",
       "    }\n",
       "</style>\n",
       "<table border=\"1\" class=\"dataframe\">\n",
       "  <thead>\n",
       "    <tr style=\"text-align: right;\">\n",
       "      <th></th>\n",
       "      <th>name</th>\n",
       "      <th>age</th>\n",
       "    </tr>\n",
       "  </thead>\n",
       "  <tbody>\n",
       "    <tr>\n",
       "      <th>a</th>\n",
       "      <td>Alice</td>\n",
       "      <td>25</td>\n",
       "    </tr>\n",
       "    <tr>\n",
       "      <th>b</th>\n",
       "      <td>Bob</td>\n",
       "      <td>30</td>\n",
       "    </tr>\n",
       "    <tr>\n",
       "      <th>c</th>\n",
       "      <td>Charlie</td>\n",
       "      <td>35</td>\n",
       "    </tr>\n",
       "  </tbody>\n",
       "</table>\n",
       "</div>"
      ],
      "text/plain": [
       "      name  age\n",
       "a    Alice   25\n",
       "b      Bob   30\n",
       "c  Charlie   35"
      ]
     },
     "execution_count": 65,
     "metadata": {},
     "output_type": "execute_result"
    }
   ],
   "source": [
    "df"
   ]
  },
  {
   "cell_type": "code",
   "execution_count": 71,
   "id": "c540cc13",
   "metadata": {},
   "outputs": [
    {
     "data": {
      "text/html": [
       "<div>\n",
       "<style scoped>\n",
       "    .dataframe tbody tr th:only-of-type {\n",
       "        vertical-align: middle;\n",
       "    }\n",
       "\n",
       "    .dataframe tbody tr th {\n",
       "        vertical-align: top;\n",
       "    }\n",
       "\n",
       "    .dataframe thead th {\n",
       "        text-align: right;\n",
       "    }\n",
       "</style>\n",
       "<table border=\"1\" class=\"dataframe\">\n",
       "  <thead>\n",
       "    <tr style=\"text-align: right;\">\n",
       "      <th></th>\n",
       "      <th>name</th>\n",
       "      <th>age</th>\n",
       "    </tr>\n",
       "  </thead>\n",
       "  <tbody>\n",
       "    <tr>\n",
       "      <th>a</th>\n",
       "      <td>Alice</td>\n",
       "      <td>30</td>\n",
       "    </tr>\n",
       "    <tr>\n",
       "      <th>b</th>\n",
       "      <td>Bob</td>\n",
       "      <td>35</td>\n",
       "    </tr>\n",
       "    <tr>\n",
       "      <th>c</th>\n",
       "      <td>Charlie</td>\n",
       "      <td>40</td>\n",
       "    </tr>\n",
       "  </tbody>\n",
       "</table>\n",
       "</div>"
      ],
      "text/plain": [
       "      name  age\n",
       "a    Alice   30\n",
       "b      Bob   35\n",
       "c  Charlie   40"
      ]
     },
     "execution_count": 71,
     "metadata": {},
     "output_type": "execute_result"
    }
   ],
   "source": [
    "# Add Age to the col\n",
    "\n",
    "df['age'] = df['age'] + 1\n",
    "df"
   ]
  },
  {
   "cell_type": "code",
   "execution_count": 77,
   "id": "be5fb4d8",
   "metadata": {},
   "outputs": [
    {
     "name": "stdout",
     "output_type": "stream",
     "text": [
      "Data types:\n",
      " Index             int64\n",
      "User Id          object\n",
      "First Name       object\n",
      "Last Name        object\n",
      "Sex              object\n",
      "Email            object\n",
      "Phone            object\n",
      "Date of birth    object\n",
      "Job Title        object\n",
      "dtype: object\n",
      "\n",
      "\n",
      "Statistical Summary:\n",
      "             Index\n",
      "count  100.000000\n",
      "mean    50.500000\n",
      "std     29.011492\n",
      "min      1.000000\n",
      "25%     25.750000\n",
      "50%     50.500000\n",
      "75%     75.250000\n",
      "max    100.000000\n",
      "\n",
      "\n"
     ]
    }
   ],
   "source": [
    "# Display the datatype of each col\n",
    "print(\"Data types:\\n\",df.dtypes)\n",
    "\n",
    "print(\"\\n\")\n",
    "\n",
    "# Describe the dataframe\n",
    "print(\"Statistical Summary:\\n\",df.describe())\n",
    "\n",
    "print(\"\\n\")\n"
   ]
  },
  {
   "cell_type": "code",
   "execution_count": null,
   "id": "47462caf",
   "metadata": {},
   "outputs": [],
   "source": []
  }
 ],
 "metadata": {
  "kernelspec": {
   "display_name": "Python 3",
   "language": "python",
   "name": "python3"
  },
  "language_info": {
   "codemirror_mode": {
    "name": "ipython",
    "version": 3
   },
   "file_extension": ".py",
   "mimetype": "text/x-python",
   "name": "python",
   "nbconvert_exporter": "python",
   "pygments_lexer": "ipython3",
   "version": "3.10.0"
  }
 },
 "nbformat": 4,
 "nbformat_minor": 5
}
